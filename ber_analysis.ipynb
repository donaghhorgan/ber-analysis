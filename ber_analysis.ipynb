{
 "cells": [
  {
   "cell_type": "markdown",
   "metadata": {},
   "source": [
    "# BER regression analysis\n",
    "\n",
    "This notebook fits a regression model to available BER data in order to build a general cost estimator for any BER rating and any house size. The data used in this notebook was sourced from [SEAI](https://www.seai.ie/publications/Your-Guide-to-Building-Energy-Rating.pdf).\n",
    "\n",
    "Start by importing the packages we'll need:"
   ]
  },
  {
   "cell_type": "code",
   "execution_count": null,
   "metadata": {},
   "outputs": [],
   "source": [
    "import matplotlib.pyplot as plt\n",
    "import numpy as np\n",
    "import pandas as pd\n",
    "import seaborn as sns\n",
    "\n",
    "from sklearn.linear_model import LinearRegression"
   ]
  },
  {
   "cell_type": "markdown",
   "metadata": {},
   "source": [
    "Load the data to analyse:"
   ]
  },
  {
   "cell_type": "code",
   "execution_count": null,
   "metadata": {},
   "outputs": [],
   "source": [
    "data = [\n",
    "    ['A1', 75, 0.4, 140],\n",
    "    ['A2', 75, 0.8, 280],\n",
    "    ['A3', 75, 1.0, 350],\n",
    "    ['B1', 75, 1.3, 440],\n",
    "    ['B2', 75, 1.6, 570],\n",
    "    ['B3', 75, 2.0, 700],\n",
    "    ['C1', 75, 2.4, 800],\n",
    "    ['C2', 75, 2.8, 1000],\n",
    "    ['C3', 75, 3.2, 1100],\n",
    "    ['D1', 75, 3.7, 1300],\n",
    "    ['D2', 75, 4.4, 1500],\n",
    "    ['E1', 75, 5.0, 1800],\n",
    "    ['E2', 75, 5.7, 2000],\n",
    "    ['F', 75, 6.8, 2400],\n",
    "    ['G', 75, 8.5, 3000],\n",
    "    ['A1', 100, 0.5, 190],\n",
    "    ['A2', 100, 1.1, 380],\n",
    "    ['A3', 100, 1.4, 470],\n",
    "    ['B1', 100, 1.7, 590],\n",
    "    ['B2', 100, 2.2, 800],\n",
    "    ['B3', 100, 2.7, 900],\n",
    "    ['C1', 100, 3.1, 1100],\n",
    "    ['C2', 100, 3.7, 1300],\n",
    "    ['C3', 100, 4.2, 1500],\n",
    "    ['D1', 100, 5.0, 1700],\n",
    "    ['D2', 100, 5.8, 2000],\n",
    "    ['E1', 100, 6.7, 2300],\n",
    "    ['E2', 100, 7.6, 2600],\n",
    "    ['F', 100, 9.1, 3200],\n",
    "    ['G', 100, 11.3, 4000],\n",
    "    ['A1', 150, 0.8, 280],\n",
    "    ['A2', 150, 1.6, 560],\n",
    "    ['A3', 150, 2.0, 700],\n",
    "    ['B1', 150, 2.5, 900],\n",
    "    ['B2', 150, 3.3, 1100],\n",
    "    ['B3', 150, 4.0, 1400],\n",
    "    ['C1', 150, 4.7, 1600],\n",
    "    ['C2', 150, 5.5, 1900],\n",
    "    ['C3', 150, 6.3, 2200],\n",
    "    ['D1', 150, 7.5, 2600],\n",
    "    ['D2', 150, 8.8, 3100],\n",
    "    ['E1', 150, 10.1, 3500],\n",
    "    ['E2', 150, 11.4, 4000],\n",
    "    ['F', 150, 13.6, 4700],\n",
    "    ['G', 150, 17.0, 5900],\n",
    "    ['A1', 200, 1.1, 400],\n",
    "    ['A2', 200, 2.2, 800],\n",
    "    ['A3', 200, 2.7, 900],\n",
    "    ['B1', 200, 3.4, 1200],\n",
    "    ['B2', 200, 4.3, 1500],\n",
    "    ['B3', 200, 5.3, 1900],\n",
    "    ['C1', 200, 6.3, 2200],\n",
    "    ['C2', 200, 7.4, 2600],\n",
    "    ['C3', 200, 8.4, 2900],\n",
    "    ['D1', 200, 10.0, 3500],\n",
    "    ['D2', 200, 11.7, 4100],\n",
    "    ['E1', 200, 13.4, 4700],\n",
    "    ['E2', 200, 15.1, 5300],\n",
    "    ['F', 200, 18.2, 6300],\n",
    "    ['G', 200, 22.7, 7900],\n",
    "    ['A1', 300, 1.6, 600],\n",
    "    ['A2', 300, 3.2, 1100],\n",
    "    ['A3', 300, 4.1, 1400],\n",
    "    ['B1', 300, 5.0, 1800],\n",
    "    ['B2', 300, 6.5, 2300],\n",
    "    ['B3', 300, 8.0, 2800],\n",
    "    ['C1', 300, 9.4, 3300],\n",
    "    ['C2', 300, 11.0, 3900],\n",
    "    ['C3', 300, 12.7, 4400],\n",
    "    ['D1', 300, 14.9, 5200],\n",
    "    ['D2', 300, 17.5, 6100],\n",
    "    ['E1', 300, 20.1, 7000],\n",
    "    ['E2', 300, 22.7, 7900],\n",
    "    ['F', 300, 27.2, 9500],\n",
    "    ['G', 300, 34, 11900]\n",
    "]\n",
    "\n",
    "df = pd.DataFrame(data, columns=['ber', 'area', 'co2', 'cost'])"
   ]
  },
  {
   "cell_type": "markdown",
   "metadata": {},
   "source": [
    "Fit a simple regression model:"
   ]
  },
  {
   "cell_type": "code",
   "execution_count": null,
   "metadata": {},
   "outputs": [],
   "source": [
    "X = pd.get_dummies(df[['ber']]).mul(df['area'], axis='index')\n",
    "y = df['cost']\n",
    "\n",
    "model = LinearRegression(fit_intercept=False)\n",
    "model.fit(X, y)\n",
    "\n",
    "error = model.predict(X) - y\n",
    "print(f'MAE: {np.mean(np.abs(error))}')\n",
    "print(f'MSE: {np.mean(error ** 2)}')\n",
    "\n",
    "plt.hist(error, bins=20)\n",
    "plt.gca().set(\n",
    "    xlabel='Error',\n",
    "    ylabel='Frequency'\n",
    ")\n",
    "sns.despine()"
   ]
  },
  {
   "cell_type": "markdown",
   "metadata": {},
   "source": [
    "Take a look at the parameters:"
   ]
  },
  {
   "cell_type": "code",
   "execution_count": null,
   "metadata": {},
   "outputs": [],
   "source": [
    "parameters = pd.Series(dict(zip(X.columns, model.coef_)))\n",
    "parameters"
   ]
  },
  {
   "cell_type": "markdown",
   "metadata": {},
   "source": [
    "Create a Google Sheets query:"
   ]
  },
  {
   "cell_type": "code",
   "execution_count": null,
   "metadata": {},
   "outputs": [],
   "source": [
    "query = '=SWITCH($B3, '\n",
    "for k, v in parameters.items():\n",
    "    query += f'\"{k[4:]}\", {v} * C$2, '\n",
    "query = query[:-2] + ')'\n",
    "\n",
    "query"
   ]
  }
 ],
 "metadata": {
  "kernelspec": {
   "display_name": "Python 3",
   "language": "python",
   "name": "python3"
  },
  "language_info": {
   "codemirror_mode": {
    "name": "ipython",
    "version": 3
   },
   "file_extension": ".py",
   "mimetype": "text/x-python",
   "name": "python",
   "nbconvert_exporter": "python",
   "pygments_lexer": "ipython3",
   "version": "3.7.6"
  }
 },
 "nbformat": 4,
 "nbformat_minor": 4
}
